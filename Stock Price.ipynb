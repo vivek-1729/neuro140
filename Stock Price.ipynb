{
 "cells": [
  {
   "cell_type": "code",
   "execution_count": 1,
   "id": "16c8b0d4",
   "metadata": {},
   "outputs": [
    {
     "name": "stderr",
     "output_type": "stream",
     "text": [
      "/Users/Vivek/opt/anaconda3/lib/python3.9/site-packages/pandas/core/computation/expressions.py:21: UserWarning: Pandas requires version '2.8.4' or newer of 'numexpr' (version '2.8.3' currently installed).\n",
      "  from pandas.core.computation.check import NUMEXPR_INSTALLED\n",
      "/Users/Vivek/opt/anaconda3/lib/python3.9/site-packages/pandas/core/arrays/masked.py:60: UserWarning: Pandas requires version '1.3.6' or newer of 'bottleneck' (version '1.3.5' currently installed).\n",
      "  from pandas.core import (\n"
     ]
    }
   ],
   "source": [
    "import pandas as pd"
   ]
  },
  {
   "cell_type": "code",
   "execution_count": 2,
   "id": "25cb25c2",
   "metadata": {},
   "outputs": [],
   "source": [
    "import wrds\n",
    "from datetime import date, timedelta\n",
    "from dateutil.parser import parse\n",
    "from dateutil.relativedelta import relativedelta\n",
    "import pandas as pd\n",
    "import os\n",
    "from tqdm import tqdm"
   ]
  },
  {
   "cell_type": "code",
   "execution_count": 3,
   "id": "83792513",
   "metadata": {},
   "outputs": [
    {
     "name": "stdout",
     "output_type": "stream",
     "text": [
      "Loading library list...\n",
      "Done\n"
     ]
    }
   ],
   "source": [
    "conn = wrds.Connection(wrds_username='vivek12', wrds_password='Powerplay@ec3')"
   ]
  },
  {
   "cell_type": "code",
   "execution_count": 4,
   "id": "4dab46d3",
   "metadata": {},
   "outputs": [],
   "source": [
    "folders = os.listdir(\"MAEC_Dataset\")"
   ]
  },
  {
   "cell_type": "code",
   "execution_count": 5,
   "id": "0ad7e6b5",
   "metadata": {},
   "outputs": [],
   "source": [
    "change = []\n",
    "def get_change(parsed, ticker):\n",
    "    start_date = parsed - relativedelta(days=1)\n",
    "    end_date = parsed + relativedelta(days=1)\n",
    "\n",
    "    # Query CRSP database for stock prices\n",
    "    crsp_query = f\"\"\"\n",
    "        SELECT date, prc\n",
    "        FROM crsp.dsf\n",
    "        WHERE permco IN (\n",
    "            SELECT permco\n",
    "            FROM crsp.dse\n",
    "            WHERE ticker = '{ticker}'\n",
    "            )\n",
    "        AND date BETWEEN '{start_date}' AND '{end_date}'\n",
    "    \"\"\"\n",
    "\n",
    "    # Execute the query and retrieve data\n",
    "    data = conn.raw_sql(crsp_query)\n",
    "\n",
    "\n",
    "    # Convert the retrieved data to a pandas DataFrame\n",
    "    df = pd.DataFrame(data)\n",
    "\n",
    "    ind = abs(df['date'] - parsed.date()).idxmin()\n",
    "    old = df.loc[ind-1]['prc']\n",
    "    new = df.loc[ind]['prc']\n",
    "    chg = (new-old)/old\n",
    "    return (chg*100)"
   ]
  },
  {
   "cell_type": "code",
   "execution_count": 13,
   "id": "251f22e1",
   "metadata": {},
   "outputs": [],
   "source": [
    "initial = {'Date': [], 'Ticker':[]}\n",
    "df = pd.DataFrame(initial)\n",
    "df.to_csv(\"change.csv\", index=False)"
   ]
  },
  {
   "cell_type": "code",
   "execution_count": 17,
   "id": "4ad08a9a",
   "metadata": {
    "scrolled": false
   },
   "outputs": [
    {
     "name": "stderr",
     "output_type": "stream",
     "text": [
      " 73%|██████████████████████████▏         | 2501/3444 [00:00<00:00, 12498.08it/s]"
     ]
    },
    {
     "name": "stdout",
     "output_type": "stream",
     "text": [
      "No\n"
     ]
    },
    {
     "name": "stderr",
     "output_type": "stream",
     "text": [
      "100%|████████████████████████████████████| 3444/3444 [00:00<00:00, 12184.12it/s]\n"
     ]
    }
   ],
   "source": [
    "years = []\n",
    "tickers = []\n",
    "changes = []\n",
    "initial = {'Date': [], 'Ticker': [], 'Change':[]}\n",
    "df = pd.read_csv(\"change.csv\")\n",
    "for i in tqdm(range(len(folders))):\n",
    "    folder = folders[i]\n",
    "    year, ticker = folder.split('_')\n",
    "#    if ticker in list(df['Ticker']):\n",
    "#        continue\n",
    "    try:\n",
    "        parsed = parse(year)\n",
    "    except:\n",
    "        print(\"No\")\n",
    "        continue\n",
    "    true_date = parsed.strftime('%Y-%m-%d')\n",
    "#    try:\n",
    "#        changes.append(get_change(true_date, ticker))\n",
    "#    except:\n",
    "#        print(f\"Didn't work {folder}\")\n",
    "#        continue\n",
    "    years.append(true_date)\n",
    "    tickers.append(ticker)\n",
    "    if i % 100 == 0 and i!= 0:\n",
    "        df = pd.read_csv(\"change.csv\")\n",
    "        data = {'Date': years, 'Ticker': tickers}\n",
    "        df2 = pd.DataFrame(data)\n",
    "        years = []\n",
    "        tickers = []\n",
    "        changes = []\n",
    "        df3 = pd.concat([df, df2])\n",
    "        df3.to_csv(\"change.csv\", index = False) "
   ]
  },
  {
   "cell_type": "code",
   "execution_count": null,
   "id": "c78d5219",
   "metadata": {
    "collapsed": true
   },
   "outputs": [],
   "source": []
  }
 ],
 "metadata": {
  "kernelspec": {
   "display_name": "Python 3 (ipykernel)",
   "language": "python",
   "name": "python3"
  },
  "language_info": {
   "codemirror_mode": {
    "name": "ipython",
    "version": 3
   },
   "file_extension": ".py",
   "mimetype": "text/x-python",
   "name": "python",
   "nbconvert_exporter": "python",
   "pygments_lexer": "ipython3",
   "version": "3.9.13"
  }
 },
 "nbformat": 4,
 "nbformat_minor": 5
}
